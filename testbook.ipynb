{
 "cells": [
  {
   "cell_type": "markdown",
   "metadata": {},
   "source": [
    "## Question 1\n",
    "Different brands interpret the size scale differently. A small t-shirt from brand_A can very well be of the same size as a medium t-shirt from brand_B. I would say that this problem is fairly easy to overcome as it is only a matter of metrics. You could for instance map the sizes of the different brands to a sort of “true scale” that holds values that can’t be discussed, i.e. the measurements of the t-shirts. However, this doesn’t solve the problem mentioned in my answer to question 3.\n",
    "\n",
    "## Question 3\n",
    "We have to distinguish between fitting and the preferences of the individual user. A medium t-shirt might fit user X, but she prefers them baggy, so a large t-shirt would actually be the right size for her. It is very hard - if not impossible - to rate a new user in terms of a return-risk score, if we don’t know anything about his or hers preferences. Therefore requesting information from the user about their preferences for different brands sizewise is absolutely crucial - as EasySize already does and knows.\n",
    "\n",
    "Let's briefly look on the data:"
   ]
  },
  {
   "cell_type": "code",
   "execution_count": 1,
   "metadata": {
    "collapsed": true
   },
   "outputs": [],
   "source": [
    "import pandas as pd\n",
    "import numpy as np\n",
    "import matplotlib.pyplot as plt\n",
    "%matplotlib inline\n",
    "import seaborn as sns"
   ]
  },
  {
   "cell_type": "code",
   "execution_count": 2,
   "metadata": {
    "collapsed": false
   },
   "outputs": [],
   "source": [
    "data = pd.read_csv(\"dataset.csv\", \"\\t\")"
   ]
  },
  {
   "cell_type": "code",
   "execution_count": 3,
   "metadata": {
    "collapsed": false
   },
   "outputs": [
    {
     "data": {
      "text/plain": [
       "order_status\n",
       "R    14407\n",
       "S    89626\n",
       "dtype: int64"
      ]
     },
     "execution_count": 3,
     "metadata": {},
     "output_type": "execute_result"
    }
   ],
   "source": [
    "data.groupby(\"order_status\").size()"
   ]
  },
  {
   "cell_type": "code",
   "execution_count": 4,
   "metadata": {
    "collapsed": false
   },
   "outputs": [],
   "source": [
    "# assign returned orders to 1, otherwise 0\n",
    "data.loc[data['order_status']=='R', 'returned'] = 1\n",
    "data.loc[data['order_status']=='S', 'returned'] = 0"
   ]
  },
  {
   "cell_type": "code",
   "execution_count": 5,
   "metadata": {
    "collapsed": false
   },
   "outputs": [],
   "source": [
    "# maps the size names to a number from 1 to 15\n",
    "\n",
    "size_list = ['XXSmall', 'XSmall', 'XSmall/Small', 'Small',\n",
    "             'Small/Medium', 'Medium', 'Medium/Large', 'Large',\n",
    "             'Large/XLarge', 'XLarge', 'XLarge/XXLarge', 'XXLarge',\n",
    "             'XXXLarge', 'XXXXLarge', 'XXXXXLarge']\n",
    "n = np.int64(1)\n",
    "for size in size_list:\n",
    "    data.loc[data['size']==size, 'num_size'] = n\n",
    "    n += 1"
   ]
  },
  {
   "cell_type": "code",
   "execution_count": 6,
   "metadata": {
    "collapsed": false
   },
   "outputs": [],
   "source": [
    "# converts the values of the two columns to np.int64\n",
    "\n",
    "data['num_size'] = data['num_size'].apply(lambda x: np.int64(x))\n",
    "data['returned'] = data['returned'].apply(lambda x: np.int64(x))"
   ]
  },
  {
   "cell_type": "markdown",
   "metadata": {},
   "source": [
    "## Question 2\n",
    "\n",
    "We can start by looking on the distributions of the returned t-shirts:"
   ]
  },
  {
   "cell_type": "code",
   "execution_count": 7,
   "metadata": {
    "collapsed": false
   },
   "outputs": [
    {
     "data": {
      "text/plain": [
       "Too small/short    8066\n",
       "Too large/long     6341\n",
       "Name: return_reason, dtype: int64"
      ]
     },
     "execution_count": 7,
     "metadata": {},
     "output_type": "execute_result"
    }
   ],
   "source": [
    "data[data['returned']==1]['return_reason'].value_counts()"
   ]
  },
  {
   "cell_type": "markdown",
   "metadata": {},
   "source": [
    "About 14% of the t-shirts were returned, and it seems there could be a tendency for people to order them too small. It would be nice if we were able to show that some brands would be small sized while other would be larger in size, i.e. for one part of the brands the majority of returns would be too small, and for the other part the returns would be too large. However, this is not the case if we look on the return distribution for the 20 most popular brands that accounts for about 64% of all t-shirts ordered:"
   ]
  },
  {
   "cell_type": "code",
   "execution_count": 165,
   "metadata": {
    "collapsed": false
   },
   "outputs": [
    {
     "data": {
      "text/plain": [
       "<matplotlib.axes._subplots.AxesSubplot at 0x11ddd6198>"
      ]
     },
     "execution_count": 165,
     "metadata": {},
     "output_type": "execute_result"
    },
    {
     "data": {
      "image/png": "[encoded data removed]",
      "text/plain": [
       "<matplotlib.figure.Figure at 0x11dde28d0>"
      ]
     },
     "metadata": {},
     "output_type": "display_data"
    }
   ],
   "source": [
    "brands_ordered = data.brand_id.value_counts().index.tolist()[:20]\n",
    "returns_list = []\n",
    "for brand in brands_ordered[:20]:\n",
    "    returns_list.append(data[data.brand_id==brand].order_status.value_counts().values)\n",
    "df_returns = pd.DataFrame(returns_list, columns=['Too large', 'Too small'])\n",
    "df_returns.plot.bar(title=\"Returns for top 20 brands\")"
   ]
  },
  {
   "cell_type": "markdown",
   "metadata": {},
   "source": [
    "It goes for all brands that the main reason for returning t-shirts is that they're too small. So we can't just adjust the size up for some brands and down for others."
   ]
  },
  {
   "cell_type": "markdown",
   "metadata": {},
   "source": [
    "In this proposed solution I won’t take account for the preferences the users might have for the different brands, i.e. a user prefer size X of brand A, but size Y of brand B - even though they’re sizewise identical. I will only look on whether the t-shirt fit them or not. I know it’s a simplified version of what’s going on in reality, but that’s what I’m capable of now within this more or less time limited assessment.\n",
    "\n",
    "Let’s convert the XXSmall, … , XXXXXLarge scale into a scale ranging from 1 to 15. The goal is to map the sizes of the shirts to the values of the “true scale” mentioned above in question 1.\n",
    "\n",
    "We can start by looking at the individual sizes of the different brands - is there a tendency to a lot of returned shirts of size 8 of brand X? Then maybe that size of this brand should be adjusted by some factor and according to this score be placed in a size-bin containing all the t-shirts (across all brands) that scores likewise. This way we’d end up with 15 bins containing all the t-shirts. But notice that after adjusting the size of the t-shirts, a t-shirt that on the label is a size 6 (for instance) might end up in the bin that says size 7.\n",
    "\n",
    "A way of determining the adjustment factors could be to look on the relationship between different sized t-shirts of different brands. If there's a tendency for users to return a t-shirt of brand A of size 8 but keep the shirts of brand B of size 7, then maybe size 8 of brand A should be adjusted downwards or vice versa for brand B size 7.\n",
    "\n",
    "### One account - multiple users\n",
    "If a family places an order, there might be shirts of size 2 as well as shirts of size 13. This could be addressed by assigning every account with a list of approved sizes, i.e. t-shirt sizes that wasn't returned. That way a new order of t-shirts of size 3 wouldn't necessarily be adjusted to 13 but the correct size 2."
   ]
  },
  {
   "cell_type": "markdown",
   "metadata": {},
   "source": [
    "## Question 4\n",
    "If we had a mapping of the brand sizes to the \"true sizes\" this could be done on the fly. This would of course be a bit rigid unless the mapping would be recalculated periodically."
   ]
  },
  {
   "cell_type": "code",
   "execution_count": null,
   "metadata": {
    "collapsed": true
   },
   "outputs": [],
   "source": []
  }
 ],
 "metadata": {
  "kernelspec": {
   "display_name": "Python 3",
   "language": "python",
   "name": "python3"
  },
  "language_info": {
   "codemirror_mode": {
    "name": "ipython",
    "version": 3
   },
   "file_extension": ".py",
   "mimetype": "text/x-python",
   "name": "python",
   "nbconvert_exporter": "python",
   "pygments_lexer": "ipython3",
   "version": "3.5.2"
  }
 },
 "nbformat": 4,
 "nbformat_minor": 0
}
